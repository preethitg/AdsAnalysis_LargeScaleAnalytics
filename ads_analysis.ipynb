{
 "cells": [
  {
   "cell_type": "code",
   "execution_count": 1,
   "metadata": {},
   "outputs": [],
   "source": [
    "import os\n",
    "import numpy as np\n",
    "import pandas as pd\n",
    "import dateutil.parser"
   ]
  },
  {
   "cell_type": "code",
   "execution_count": 2,
   "metadata": {},
   "outputs": [
    {
     "data": {
      "text/html": [
       "<div>\n",
       "<style scoped>\n",
       "    .dataframe tbody tr th:only-of-type {\n",
       "        vertical-align: middle;\n",
       "    }\n",
       "\n",
       "    .dataframe tbody tr th {\n",
       "        vertical-align: top;\n",
       "    }\n",
       "\n",
       "    .dataframe thead th {\n",
       "        text-align: right;\n",
       "    }\n",
       "</style>\n",
       "<table border=\"1\" class=\"dataframe\">\n",
       "  <thead>\n",
       "    <tr style=\"text-align: right;\">\n",
       "      <th></th>\n",
       "      <th>date</th>\n",
       "      <th>shown</th>\n",
       "      <th>clicked</th>\n",
       "      <th>converted</th>\n",
       "      <th>avg_cost_per_click</th>\n",
       "      <th>total_revenue</th>\n",
       "      <th>ad</th>\n",
       "    </tr>\n",
       "  </thead>\n",
       "  <tbody>\n",
       "    <tr>\n",
       "      <th>0</th>\n",
       "      <td>2015-10-01</td>\n",
       "      <td>65877</td>\n",
       "      <td>2339</td>\n",
       "      <td>43</td>\n",
       "      <td>0.90</td>\n",
       "      <td>641.62</td>\n",
       "      <td>ad_group_1</td>\n",
       "    </tr>\n",
       "    <tr>\n",
       "      <th>1</th>\n",
       "      <td>2015-10-02</td>\n",
       "      <td>65100</td>\n",
       "      <td>2498</td>\n",
       "      <td>38</td>\n",
       "      <td>0.94</td>\n",
       "      <td>756.37</td>\n",
       "      <td>ad_group_1</td>\n",
       "    </tr>\n",
       "    <tr>\n",
       "      <th>2</th>\n",
       "      <td>2015-10-03</td>\n",
       "      <td>70658</td>\n",
       "      <td>2313</td>\n",
       "      <td>49</td>\n",
       "      <td>0.86</td>\n",
       "      <td>970.90</td>\n",
       "      <td>ad_group_1</td>\n",
       "    </tr>\n",
       "    <tr>\n",
       "      <th>3</th>\n",
       "      <td>2015-10-04</td>\n",
       "      <td>69809</td>\n",
       "      <td>2833</td>\n",
       "      <td>51</td>\n",
       "      <td>1.01</td>\n",
       "      <td>907.39</td>\n",
       "      <td>ad_group_1</td>\n",
       "    </tr>\n",
       "    <tr>\n",
       "      <th>4</th>\n",
       "      <td>2015-10-05</td>\n",
       "      <td>68186</td>\n",
       "      <td>2696</td>\n",
       "      <td>41</td>\n",
       "      <td>1.00</td>\n",
       "      <td>879.45</td>\n",
       "      <td>ad_group_1</td>\n",
       "    </tr>\n",
       "  </tbody>\n",
       "</table>\n",
       "</div>"
      ],
      "text/plain": [
       "         date  shown  clicked  converted  avg_cost_per_click  total_revenue  \\\n",
       "0  2015-10-01  65877     2339         43                0.90         641.62   \n",
       "1  2015-10-02  65100     2498         38                0.94         756.37   \n",
       "2  2015-10-03  70658     2313         49                0.86         970.90   \n",
       "3  2015-10-04  69809     2833         51                1.01         907.39   \n",
       "4  2015-10-05  68186     2696         41                1.00         879.45   \n",
       "\n",
       "           ad  \n",
       "0  ad_group_1  \n",
       "1  ad_group_1  \n",
       "2  ad_group_1  \n",
       "3  ad_group_1  \n",
       "4  ad_group_1  "
      ]
     },
     "execution_count": 2,
     "metadata": {},
     "output_type": "execute_result"
    }
   ],
   "source": [
    "ads_file = 'data/ad_table.csv'\n",
    "df = pd.read_csv(ads_file, header=0, sep=',')\n",
    "df.head()"
   ]
  },
  {
   "cell_type": "code",
   "execution_count": 3,
   "metadata": {},
   "outputs": [
    {
     "data": {
      "text/html": [
       "<div>\n",
       "<style scoped>\n",
       "    .dataframe tbody tr th:only-of-type {\n",
       "        vertical-align: middle;\n",
       "    }\n",
       "\n",
       "    .dataframe tbody tr th {\n",
       "        vertical-align: top;\n",
       "    }\n",
       "\n",
       "    .dataframe thead th {\n",
       "        text-align: right;\n",
       "    }\n",
       "</style>\n",
       "<table border=\"1\" class=\"dataframe\">\n",
       "  <thead>\n",
       "    <tr style=\"text-align: right;\">\n",
       "      <th></th>\n",
       "      <th>date</th>\n",
       "      <th>shown</th>\n",
       "      <th>clicked</th>\n",
       "      <th>converted</th>\n",
       "      <th>avg_cost_per_click</th>\n",
       "      <th>total_revenue</th>\n",
       "      <th>ad</th>\n",
       "    </tr>\n",
       "  </thead>\n",
       "  <tbody>\n",
       "    <tr>\n",
       "      <th>0</th>\n",
       "      <td>2015-10-01</td>\n",
       "      <td>65877</td>\n",
       "      <td>2339</td>\n",
       "      <td>43</td>\n",
       "      <td>0.90</td>\n",
       "      <td>641.62</td>\n",
       "      <td>ad_group_1</td>\n",
       "    </tr>\n",
       "    <tr>\n",
       "      <th>1</th>\n",
       "      <td>2015-10-02</td>\n",
       "      <td>65100</td>\n",
       "      <td>2498</td>\n",
       "      <td>38</td>\n",
       "      <td>0.94</td>\n",
       "      <td>756.37</td>\n",
       "      <td>ad_group_1</td>\n",
       "    </tr>\n",
       "    <tr>\n",
       "      <th>2</th>\n",
       "      <td>2015-10-03</td>\n",
       "      <td>70658</td>\n",
       "      <td>2313</td>\n",
       "      <td>49</td>\n",
       "      <td>0.86</td>\n",
       "      <td>970.90</td>\n",
       "      <td>ad_group_1</td>\n",
       "    </tr>\n",
       "    <tr>\n",
       "      <th>3</th>\n",
       "      <td>2015-10-04</td>\n",
       "      <td>69809</td>\n",
       "      <td>2833</td>\n",
       "      <td>51</td>\n",
       "      <td>1.01</td>\n",
       "      <td>907.39</td>\n",
       "      <td>ad_group_1</td>\n",
       "    </tr>\n",
       "    <tr>\n",
       "      <th>4</th>\n",
       "      <td>2015-10-05</td>\n",
       "      <td>68186</td>\n",
       "      <td>2696</td>\n",
       "      <td>41</td>\n",
       "      <td>1.00</td>\n",
       "      <td>879.45</td>\n",
       "      <td>ad_group_1</td>\n",
       "    </tr>\n",
       "  </tbody>\n",
       "</table>\n",
       "</div>"
      ],
      "text/plain": [
       "        date  shown  clicked  converted  avg_cost_per_click  total_revenue  \\\n",
       "0 2015-10-01  65877     2339         43                0.90         641.62   \n",
       "1 2015-10-02  65100     2498         38                0.94         756.37   \n",
       "2 2015-10-03  70658     2313         49                0.86         970.90   \n",
       "3 2015-10-04  69809     2833         51                1.01         907.39   \n",
       "4 2015-10-05  68186     2696         41                1.00         879.45   \n",
       "\n",
       "           ad  \n",
       "0  ad_group_1  \n",
       "1  ad_group_1  \n",
       "2  ad_group_1  \n",
       "3  ad_group_1  \n",
       "4  ad_group_1  "
      ]
     },
     "execution_count": 3,
     "metadata": {},
     "output_type": "execute_result"
    }
   ],
   "source": [
    "#convert date string to datetime format\n",
    "df['date'] = pd.to_datetime(df['date'], infer_datetime_format=True)\n",
    "# L = ['year', 'month', 'day', 'dayofweek', 'dayofyear', 'weekofyear', 'quarter']\n",
    "# df = df.join(pd.concat((getattr(df['date'].dt, i).rename(i) for i in L), axis=1))\n",
    "df.head()"
   ]
  },
  {
   "cell_type": "markdown",
   "metadata": {},
   "source": [
    "# 1. Find 5 best ad groups => Lishan\n",
    "If you had to identify the 5 best ad groups, which ones would they be? Which metric did\n",
    "you choose to identify the best ad groups? Why? Explain the pros of your metric as well\n",
    "as the possible cons."
   ]
  },
  {
   "cell_type": "markdown",
   "metadata": {},
   "source": [
    "### 1.1 Profit: Total revenue\n",
    "pros/cons: if say 1000 ads we clicked but less than 5 ads converted but gave good revenue? -> need to clarify, how can it happen ????\n",
    "\n",
    "Pros: the end goal for a company's ad is profit\n",
    "Cons: could easily be skewed by sale of 1 item that is high revenue"
   ]
  },
  {
   "cell_type": "code",
   "execution_count": 4,
   "metadata": {},
   "outputs": [
    {
     "name": "stdout",
     "output_type": "stream",
     "text": [
      "                   profit\n",
      "ad                       \n",
      "ad_group_26   5192.878113\n",
      "ad_group_20   5402.474231\n",
      "ad_group_4    7192.851132\n",
      "ad_group_18  10052.245769\n",
      "ad_group_13  19904.943962\n"
     ]
    },
    {
     "data": {
      "text/plain": [
       "<Figure size 2000x1200 with 1 Axes>"
      ]
     },
     "metadata": {},
     "output_type": "display_data"
    }
   ],
   "source": [
    "import numpy as np\n",
    "import matplotlib.pyplot as plt\n",
    "from scipy.stats.mstats import gmean\n",
    "import math\n",
    "\n",
    "profit = pd.DataFrame({'profit': df['total_revenue'], 'ad': df['ad']})\n",
    "\n",
    "# group profit by ad group\n",
    "pf_bygroup = pd.DataFrame(profit.groupby('ad')['profit'].mean())\n",
    "sort_pf = pf_bygroup.sort_values(by='profit')\n",
    "\n",
    "# get top 5 profit ad groups\n",
    "top_ads = sort_pf[-5:]\n",
    "print(top_ads)\n",
    "\n",
    "# plot grouped ad group profit\n",
    "x = pf_bygroup.index\n",
    "y = pf_bygroup['profit'].tolist()\n",
    "plt.figure(figsize=(20,12))\n",
    "plt.xticks(rotation=90)\n",
    "plt.bar(x, y, color=\"blue\")\n",
    "plt.title('Profit by Ad Group')\n",
    "plt.show()"
   ]
  },
  {
   "cell_type": "markdown",
   "metadata": {},
   "source": [
    "### 1.2 Good ads placement/fit - shown vs. clicked (i.e. click-through-rate)\n",
    "Pros: Evaluate the performance of each ad to attract the user to explore it further.\n",
    "\n",
    "Cons: It does not account for profitability, and there is still a disconnect between the actual purchase."
   ]
  },
  {
   "cell_type": "code",
   "execution_count": 5,
   "metadata": {},
   "outputs": [
    {
     "name": "stdout",
     "output_type": "stream",
     "text": [
      "             shown_vs_clicked\n",
      "ad                           \n",
      "ad_group_28          0.089046\n",
      "ad_group_26          0.090987\n",
      "ad_group_19          0.094144\n",
      "ad_group_3           0.094969\n",
      "ad_group_18          0.098959\n"
     ]
    },
    {
     "data": {
      "image/png": "[encoded data removed]",
      "text/plain": [
       "<Figure size 1440x864 with 1 Axes>"
      ]
     },
     "metadata": {
      "needs_background": "light"
     },
     "output_type": "display_data"
    }
   ],
   "source": [
    "# group data by ad group\n",
    "df_agg = pd.DataFrame({'shown': df['shown'], 'clicked' : df['clicked'], 'converted' : df['converted'], \\\n",
    "                       'ad': df['ad']}).groupby('ad').sum()\n",
    "\n",
    "# calculate click-through-rate\n",
    "ctr = pd.DataFrame({'shown_vs_clicked': df_agg['clicked']/df_agg['shown']})\n",
    "\n",
    "# get top 5 profit ad groups\n",
    "sort_ctr = ctr.sort_values(by='shown_vs_clicked')\n",
    "best_ctr = sort_ctr[-5:]\n",
    "print(best_ctr)\n",
    "\n",
    "# plot grouped ad group profit\n",
    "x = ctr.index\n",
    "y = ctr['shown_vs_clicked'].tolist()\n",
    "plt.figure(figsize=(20,12))\n",
    "plt.xticks(rotation=90)\n",
    "plt.bar(x, y, color=\"blue\")\n",
    "plt.title('Click-through-rate by Ad Group')\n",
    "plt.show()"
   ]
  },
  {
   "cell_type": "markdown",
   "metadata": {},
   "source": [
    "### 1.3 Positive recommendation - clicked vs. converted/purchased (i.e. conversion rate)\n",
    "Pros: Measures how effectively the targeting of the ad was in terms of convincing a purchase. \n",
    "\n",
    "Cons: Introduces bias based on type of item. Customers are more inclined to impulsively purchase a cheap item than expensive on."
   ]
  },
  {
   "cell_type": "code",
   "execution_count": 6,
   "metadata": {},
   "outputs": [
    {
     "name": "stdout",
     "output_type": "stream",
     "text": [
      "             clicked_vs_converted\n",
      "ad                               \n",
      "ad_group_34              0.087380\n",
      "ad_group_16              0.088641\n",
      "ad_group_12              0.091474\n",
      "ad_group_13              0.094542\n",
      "ad_group_2               0.100934\n"
     ]
    },
    {
     "data": {
      "image/png": "[encoded data removed]",
      "text/plain": [
       "<Figure size 1440x864 with 1 Axes>"
      ]
     },
     "metadata": {
      "needs_background": "light"
     },
     "output_type": "display_data"
    }
   ],
   "source": [
    "# calculate conversion-rate\n",
    "cvr = pd.DataFrame({'clicked_vs_converted': df_agg['converted']/df_agg['clicked']})\n",
    "\n",
    "# get top 5 profit ad groups\n",
    "sort_cvr = cvr.sort_values(by='clicked_vs_converted')\n",
    "best_cvr = sort_cvr[-5:]\n",
    "print(best_cvr)\n",
    "\n",
    "# plot grouped ad group profit\n",
    "x = cvr.index\n",
    "y = cvr['clicked_vs_converted'].tolist()\n",
    "plt.figure(figsize=(20,12))\n",
    "plt.xticks(rotation=90)\n",
    "plt.bar(x, y, color=\"blue\")\n",
    "plt.title('Conversion-rate by Ad Group')\n",
    "plt.show()"
   ]
  },
  {
   "cell_type": "markdown",
   "metadata": {},
   "source": [
    "### 1.4 K-means Clustering"
   ]
  },
  {
   "cell_type": "code",
   "execution_count": 16,
   "metadata": {},
   "outputs": [
    {
     "data": {
      "image/png": "[encoded data removed]",
      "text/plain": [
       "<Figure size 576x504 with 1 Axes>"
      ]
     },
     "metadata": {
      "needs_background": "light"
     },
     "output_type": "display_data"
    }
   ],
   "source": [
    "#join the three ad group metrics\n",
    "from mpl_toolkits.mplot3d import Axes3D\n",
    "from sklearn.cluster import KMeans\n",
    "\n",
    "join = pd.DataFrame({'shown_vs_clicked':ctr['shown_vs_clicked'],'clicked_vs_converted':\\\n",
    "                     cvr['clicked_vs_converted'],'profit':df.groupby('ad')['total_revenue'].mean()})\n",
    "ad_data = np.array(join)\n",
    "\n",
    "np.random.seed(5)\n",
    "    \n",
    "fig = plt.figure(figsize=(8, 7))\n",
    "ax = fig.add_subplot(111, projection='3d')\n",
    "aa = KMeans(n_clusters=3).fit(ad_data)\n",
    "labels = aa.labels_\n",
    "\n",
    "ax.scatter(ad_data[:, 0], ad_data[:, 1], ad_data[:, 2],\n",
    "            c=labels.astype(np.float), marker='o')\n",
    "\n",
    "ax.set_xlabel('CTR')\n",
    "ax.set_ylabel('CVR')\n",
    "ax.set_zlabel('Profit')\n",
    "ax.set_title('Ad Group Clustering based on 3 Performance Metrics')\n",
    "ax.dist = 12\n",
    "plt.show()"
   ]
  },
  {
   "cell_type": "markdown",
   "metadata": {},
   "source": [
    "# 2. Predicting Ads Shown on December 15th, 2015"
   ]
  },
  {
   "cell_type": "markdown",
   "metadata": {},
   "source": [
    "### 2.1 GAM\n",
    "https://github.com/dswah/pyGAM - pyGAM package\n",
    "https://www.statsmodels.org/stable/index.html -statsmodels package\n",
    "https://www.kdnuggets.com/2017/04/time-series-analysis-generalized-additive-models.html"
   ]
  },
  {
   "cell_type": "code",
   "execution_count": 8,
   "metadata": {},
   "outputs": [
    {
     "name": "stdout",
     "output_type": "stream",
     "text": [
      "(53, 8)\n"
     ]
    },
    {
     "name": "stderr",
     "output_type": "stream",
     "text": [
      "/anaconda3/lib/python3.6/site-packages/ipykernel_launcher.py:4: SettingWithCopyWarning: \n",
      "A value is trying to be set on a copy of a slice from a DataFrame.\n",
      "Try using .loc[row_indexer,col_indexer] = value instead\n",
      "\n",
      "See the caveats in the documentation: http://pandas.pydata.org/pandas-docs/stable/indexing.html#indexing-view-versus-copy\n",
      "  after removing the cwd from sys.path.\n"
     ]
    }
   ],
   "source": [
    "#build training data and test data\n",
    "df_ad_group_1 = df[df['ad'] == 'ad_group_1']\n",
    "\n",
    "df_ad_group_1['time_period'] = (df_ad_group_1['date'] - df_ad_group_1['date'][0]).dt.days\n",
    "# X = df_ad_group_1[['time_period', 'clicked', 'converted', 'avg_cost_per_click', 'total_revenue']].values\n",
    "X = df_ad_group_1[['time_period']].values\n",
    "\n",
    "y = df_ad_group_1['shown'].values\n",
    "X_test = [[(pd.to_datetime('2015-12-15') - df_ad_group_1['date'][0]).days]]\n",
    "print(df_ad_group_1.shape)"
   ]
  },
  {
   "cell_type": "code",
   "execution_count": 9,
   "metadata": {},
   "outputs": [
    {
     "name": "stderr",
     "output_type": "stream",
     "text": [
      "100% (240 of 240) |######################| Elapsed Time: 0:00:02 Time:  0:00:02\n",
      "/anaconda3/lib/python3.6/site-packages/ipykernel_launcher.py:6: UserWarning: KNOWN BUG: p-values computed in this summary are likely much smaller than they should be. \n",
      " \n",
      "Please do not make inferences based on these values! \n",
      "\n",
      "Collaborate on a solution, and stay up to date at: \n",
      "github.com/dswah/pyGAM/issues/163 \n",
      "\n",
      "  \n"
     ]
    },
    {
     "name": "stdout",
     "output_type": "stream",
     "text": [
      "LinearGAM                                                                                                 \n",
      "=============================================== ==========================================================\n",
      "Distribution:                        NormalDist Effective DoF:                                      5.3776\n",
      "Link Function:                     IdentityLink Log Likelihood:                                  -871.4906\n",
      "Number of Samples:                           53 AIC:                                             1755.7363\n",
      "                                                AICc:                                             1757.799\n",
      "                                                GCV:                                          6740929.3012\n",
      "                                                Scale:                                        5522163.4431\n",
      "                                                Pseudo R-Squared:                                   0.3808\n",
      "==========================================================================================================\n",
      "Feature Function                  Lambda               Rank         EDoF         P > x        Sig. Code   \n",
      "================================= ==================== ============ ============ ============ ============\n",
      "s(0)                              [0.0158]             7            5.4          3.91e-04     ***         \n",
      "intercept                                              1            0.0          1.11e-16     ***         \n",
      "==========================================================================================================\n",
      "Significance codes:  0 '***' 0.001 '**' 0.01 '*' 0.05 '.' 0.1 ' ' 1\n",
      "\n",
      "WARNING: Fitting splines and a linear function to a feature introduces a model identifiability problem\n",
      "         which can cause p-values to appear significant when they are not.\n",
      "\n",
      "WARNING: p-values calculated in this manner behave correctly for un-penalized models or models with\n",
      "         known smoothing parameters, but when smoothing parameters have been estimated, the p-values\n",
      "         are typically lower than they should be, meaning that the tests reject the null too readily.\n",
      "75\n",
      "[81023.94927507]\n",
      "[[0.015848931924611134]]\n",
      "[7]\n"
     ]
    },
    {
     "data": {
      "image/png": "[encoded data removed]",
      "text/plain": [
       "<Figure size 432x288 with 1 Axes>"
      ]
     },
     "metadata": {
      "needs_background": "light"
     },
     "output_type": "display_data"
    }
   ],
   "source": [
    "#Sample code : apply linear regression model for ad group 1\n",
    "from pygam import LinearGAM\n",
    "\n",
    "# plt.rcParams['figure.figsize'] = (400, 400)\n",
    "gam = LinearGAM(n_splines=10).gridsearch(X, y, lam=np.logspace(-3,3, 6), n_splines=np.arange(40))\n",
    "gam.summary()\n",
    "\n",
    "XX = gam.generate_X_grid(term=0, n=1000)\n",
    "plt.plot(XX, gam.predict(XX), label='prediction')\n",
    "plt.plot(XX, gam.prediction_intervals(XX, width=.95), color='b', ls='--', label = 'prediction interval')\n",
    "\n",
    "plt.xlim(0, 53)\n",
    "plt.ylabel('shown values')\n",
    "plt.xlabel('Days gap from 2015-10-01')\n",
    "plt.title('GAM')\n",
    "\n",
    "plt.scatter(X, y, facecolor='gray', edgecolors='none')\n",
    "plt.plot(X, y, linewidth = 1, color = 'C1', label='forecast')\n",
    "\n",
    "plt.legend(loc='center left', bbox_to_anchor=(1, 0.5))\n",
    "\n",
    "print((pd.to_datetime('2015-12-15') - df_ad_group_1['date'][0]).days)\n",
    "\n",
    "print(gam.predict([[75]]))\n",
    "print(gam.lam)\n",
    "print(gam.n_splines)"
   ]
  },
  {
   "cell_type": "code",
   "execution_count": 10,
   "metadata": {},
   "outputs": [
    {
     "name": "stderr",
     "output_type": "stream",
     "text": [
      " 34% (17 of 49) |########                | Elapsed Time: 0:00:00 ETA:   0:00:00"
     ]
    },
    {
     "name": "stdout",
     "output_type": "stream",
     "text": [
      "[1.e-03 1.e-02 1.e-01 1.e+00 1.e+01 1.e+02 1.e+03]\n"
     ]
    },
    {
     "name": "stderr",
     "output_type": "stream",
     "text": [
      "100% (49 of 49) |########################| Elapsed Time: 0:00:00 Time:  0:00:00\n",
      " 30% (15 of 49) |#######                 | Elapsed Time: 0:00:00 ETA:   0:00:00"
     ]
    },
    {
     "name": "stdout",
     "output_type": "stream",
     "text": [
      "==== Tuning for ad group ad_group_22 - best generalized cross-validation 930643.767130 \n"
     ]
    },
    {
     "name": "stderr",
     "output_type": "stream",
     "text": [
      "100% (49 of 49) |########################| Elapsed Time: 0:00:00 Time:  0:00:00\n",
      " 32% (16 of 49) |#######                 | Elapsed Time: 0:00:00 ETA:   0:00:00"
     ]
    },
    {
     "name": "stdout",
     "output_type": "stream",
     "text": [
      "==== Tuning for ad group ad_group_1 - best generalized cross-validation 6709968.990583 \n"
     ]
    },
    {
     "name": "stderr",
     "output_type": "stream",
     "text": [
      "100% (49 of 49) |########################| Elapsed Time: 0:00:00 Time:  0:00:00\n",
      " 30% (15 of 49) |#######                 | Elapsed Time: 0:00:00 ETA:   0:00:00"
     ]
    },
    {
     "name": "stdout",
     "output_type": "stream",
     "text": [
      "==== Tuning for ad group ad_group_11 - best generalized cross-validation 16865349.237726 \n"
     ]
    },
    {
     "name": "stderr",
     "output_type": "stream",
     "text": [
      "100% (49 of 49) |########################| Elapsed Time: 0:00:00 Time:  0:00:00\n",
      " 34% (17 of 49) |########                | Elapsed Time: 0:00:00 ETA:   0:00:00"
     ]
    },
    {
     "name": "stdout",
     "output_type": "stream",
     "text": [
      "==== Tuning for ad group ad_group_27 - best generalized cross-validation 6374581.937323 \n"
     ]
    },
    {
     "name": "stderr",
     "output_type": "stream",
     "text": [
      "100% (49 of 49) |########################| Elapsed Time: 0:00:00 Time:  0:00:00\n",
      " 28% (14 of 49) |######                  | Elapsed Time: 0:00:00 ETA:   0:00:00"
     ]
    },
    {
     "name": "stdout",
     "output_type": "stream",
     "text": [
      "==== Tuning for ad group ad_group_26 - best generalized cross-validation 6399621.667064 \n"
     ]
    },
    {
     "name": "stderr",
     "output_type": "stream",
     "text": [
      "100% (49 of 49) |########################| Elapsed Time: 0:00:00 Time:  0:00:00\n",
      " 30% (15 of 49) |#######                 | Elapsed Time: 0:00:00 ETA:   0:00:00"
     ]
    },
    {
     "name": "stdout",
     "output_type": "stream",
     "text": [
      "==== Tuning for ad group ad_group_16 - best generalized cross-validation 39348384.520120 \n"
     ]
    },
    {
     "name": "stderr",
     "output_type": "stream",
     "text": [
      "100% (49 of 49) |########################| Elapsed Time: 0:00:00 Time:  0:00:00\n",
      " 30% (15 of 49) |#######                 | Elapsed Time: 0:00:00 ETA:   0:00:00"
     ]
    },
    {
     "name": "stdout",
     "output_type": "stream",
     "text": [
      "==== Tuning for ad group ad_group_8 - best generalized cross-validation 4137908.404100 \n"
     ]
    },
    {
     "name": "stderr",
     "output_type": "stream",
     "text": [
      "100% (49 of 49) |########################| Elapsed Time: 0:00:00 Time:  0:00:00\n",
      " 28% (14 of 49) |######                  | Elapsed Time: 0:00:00 ETA:   0:00:00"
     ]
    },
    {
     "name": "stdout",
     "output_type": "stream",
     "text": [
      "==== Tuning for ad group ad_group_36 - best generalized cross-validation 5882384.979295 \n"
     ]
    },
    {
     "name": "stderr",
     "output_type": "stream",
     "text": [
      "100% (49 of 49) |########################| Elapsed Time: 0:00:00 Time:  0:00:00\n",
      " 32% (16 of 49) |#######                 | Elapsed Time: 0:00:00 ETA:   0:00:00"
     ]
    },
    {
     "name": "stdout",
     "output_type": "stream",
     "text": [
      "==== Tuning for ad group ad_group_28 - best generalized cross-validation 485999.716887 \n"
     ]
    },
    {
     "name": "stderr",
     "output_type": "stream",
     "text": [
      "100% (49 of 49) |########################| Elapsed Time: 0:00:00 Time:  0:00:00\n",
      " 30% (15 of 49) |#######                 | Elapsed Time: 0:00:00 ETA:   0:00:00"
     ]
    },
    {
     "name": "stdout",
     "output_type": "stream",
     "text": [
      "==== Tuning for ad group ad_group_6 - best generalized cross-validation 3400226.692864 \n"
     ]
    },
    {
     "name": "stderr",
     "output_type": "stream",
     "text": [
      "100% (49 of 49) |########################| Elapsed Time: 0:00:00 Time:  0:00:00\n",
      " 28% (14 of 49) |######                  | Elapsed Time: 0:00:00 ETA:   0:00:00"
     ]
    },
    {
     "name": "stdout",
     "output_type": "stream",
     "text": [
      "==== Tuning for ad group ad_group_32 - best generalized cross-validation 2197216.251423 \n"
     ]
    },
    {
     "name": "stderr",
     "output_type": "stream",
     "text": [
      "100% (49 of 49) |########################| Elapsed Time: 0:00:00 Time:  0:00:00\n",
      " 28% (14 of 49) |######                  | Elapsed Time: 0:00:00 ETA:   0:00:00"
     ]
    },
    {
     "name": "stdout",
     "output_type": "stream",
     "text": [
      "==== Tuning for ad group ad_group_29 - best generalized cross-validation 586502.115801 \n"
     ]
    },
    {
     "name": "stderr",
     "output_type": "stream",
     "text": [
      "100% (49 of 49) |########################| Elapsed Time: 0:00:00 Time:  0:00:00\n",
      " 28% (14 of 49) |######                  | Elapsed Time: 0:00:00 ETA:   0:00:00"
     ]
    },
    {
     "name": "stdout",
     "output_type": "stream",
     "text": [
      "==== Tuning for ad group ad_group_19 - best generalized cross-validation 9082003.551043 \n"
     ]
    },
    {
     "name": "stderr",
     "output_type": "stream",
     "text": [
      "100% (49 of 49) |########################| Elapsed Time: 0:00:00 Time:  0:00:00\n",
      " 28% (14 of 49) |######                  | Elapsed Time: 0:00:00 ETA:   0:00:00"
     ]
    },
    {
     "name": "stdout",
     "output_type": "stream",
     "text": [
      "==== Tuning for ad group ad_group_5 - best generalized cross-validation 59303384.803230 \n"
     ]
    },
    {
     "name": "stderr",
     "output_type": "stream",
     "text": [
      "100% (49 of 49) |########################| Elapsed Time: 0:00:00 Time:  0:00:00\n",
      " 30% (15 of 49) |#######                 | Elapsed Time: 0:00:00 ETA:   0:00:00"
     ]
    },
    {
     "name": "stdout",
     "output_type": "stream",
     "text": [
      "==== Tuning for ad group ad_group_34 - best generalized cross-validation 1828918.960845 \n"
     ]
    },
    {
     "name": "stderr",
     "output_type": "stream",
     "text": [
      "100% (49 of 49) |########################| Elapsed Time: 0:00:00 Time:  0:00:00\n",
      " 28% (14 of 49) |######                  | Elapsed Time: 0:00:00 ETA:   0:00:00"
     ]
    },
    {
     "name": "stdout",
     "output_type": "stream",
     "text": [
      "==== Tuning for ad group ad_group_39 - best generalized cross-validation 884490.772889 \n"
     ]
    },
    {
     "name": "stderr",
     "output_type": "stream",
     "text": [
      "100% (49 of 49) |########################| Elapsed Time: 0:00:00 Time:  0:00:00\n",
      " 32% (16 of 49) |#######                 | Elapsed Time: 0:00:00 ETA:   0:00:00"
     ]
    },
    {
     "name": "stdout",
     "output_type": "stream",
     "text": [
      "==== Tuning for ad group ad_group_10 - best generalized cross-validation 22484832.253104 \n"
     ]
    },
    {
     "name": "stderr",
     "output_type": "stream",
     "text": [
      "100% (49 of 49) |########################| Elapsed Time: 0:00:00 Time:  0:00:00\n",
      " 34% (17 of 49) |########                | Elapsed Time: 0:00:00 ETA:   0:00:00"
     ]
    },
    {
     "name": "stdout",
     "output_type": "stream",
     "text": [
      "==== Tuning for ad group ad_group_33 - best generalized cross-validation 448096.234994 \n"
     ]
    },
    {
     "name": "stderr",
     "output_type": "stream",
     "text": [
      "100% (49 of 49) |########################| Elapsed Time: 0:00:00 Time:  0:00:00\n",
      " 34% (17 of 49) |########                | Elapsed Time: 0:00:00 ETA:   0:00:00"
     ]
    },
    {
     "name": "stdout",
     "output_type": "stream",
     "text": [
      "==== Tuning for ad group ad_group_7 - best generalized cross-validation 6849026.510070 \n"
     ]
    },
    {
     "name": "stderr",
     "output_type": "stream",
     "text": [
      "100% (49 of 49) |########################| Elapsed Time: 0:00:00 Time:  0:00:00\n",
      " 34% (17 of 49) |########                | Elapsed Time: 0:00:00 ETA:   0:00:00"
     ]
    },
    {
     "name": "stdout",
     "output_type": "stream",
     "text": [
      "==== Tuning for ad group ad_group_21 - best generalized cross-validation 1483346.930502 \n"
     ]
    },
    {
     "name": "stderr",
     "output_type": "stream",
     "text": [
      "100% (49 of 49) |########################| Elapsed Time: 0:00:00 Time:  0:00:00\n",
      " 34% (17 of 49) |########                | Elapsed Time: 0:00:00 ETA:   0:00:00"
     ]
    },
    {
     "name": "stdout",
     "output_type": "stream",
     "text": [
      "==== Tuning for ad group ad_group_13 - best generalized cross-validation 1097183241.000266 \n"
     ]
    },
    {
     "name": "stderr",
     "output_type": "stream",
     "text": [
      "100% (49 of 49) |########################| Elapsed Time: 0:00:00 Time:  0:00:00\n",
      " 32% (16 of 49) |#######                 | Elapsed Time: 0:00:00 ETA:   0:00:00"
     ]
    },
    {
     "name": "stdout",
     "output_type": "stream",
     "text": [
      "==== Tuning for ad group ad_group_25 - best generalized cross-validation 591564057.317318 \n"
     ]
    },
    {
     "name": "stderr",
     "output_type": "stream",
     "text": [
      "100% (49 of 49) |########################| Elapsed Time: 0:00:00 Time:  0:00:00\n",
      " 30% (15 of 49) |#######                 | Elapsed Time: 0:00:00 ETA:   0:00:00"
     ]
    },
    {
     "name": "stdout",
     "output_type": "stream",
     "text": [
      "==== Tuning for ad group ad_group_17 - best generalized cross-validation 15980169.240035 \n"
     ]
    },
    {
     "name": "stderr",
     "output_type": "stream",
     "text": [
      "100% (49 of 49) |########################| Elapsed Time: 0:00:00 Time:  0:00:00\n",
      " 34% (17 of 49) |########                | Elapsed Time: 0:00:00 ETA:   0:00:00"
     ]
    },
    {
     "name": "stdout",
     "output_type": "stream",
     "text": [
      "==== Tuning for ad group ad_group_31 - best generalized cross-validation 21947800.148752 \n"
     ]
    },
    {
     "name": "stderr",
     "output_type": "stream",
     "text": [
      "100% (49 of 49) |########################| Elapsed Time: 0:00:00 Time:  0:00:00\n",
      " 34% (17 of 49) |########                | Elapsed Time: 0:00:00 ETA:   0:00:00"
     ]
    },
    {
     "name": "stdout",
     "output_type": "stream",
     "text": [
      "==== Tuning for ad group ad_group_12 - best generalized cross-validation 17279516.792855 \n"
     ]
    },
    {
     "name": "stderr",
     "output_type": "stream",
     "text": [
      "100% (49 of 49) |########################| Elapsed Time: 0:00:00 Time:  0:00:00\n",
      " 34% (17 of 49) |########                | Elapsed Time: 0:00:00 ETA:   0:00:00"
     ]
    },
    {
     "name": "stdout",
     "output_type": "stream",
     "text": [
      "==== Tuning for ad group ad_group_14 - best generalized cross-validation 80697.796371 \n"
     ]
    },
    {
     "name": "stderr",
     "output_type": "stream",
     "text": [
      "100% (49 of 49) |########################| Elapsed Time: 0:00:00 Time:  0:00:00\n",
      " 28% (14 of 49) |######                  | Elapsed Time: 0:00:00 ETA:   0:00:00"
     ]
    },
    {
     "name": "stdout",
     "output_type": "stream",
     "text": [
      "==== Tuning for ad group ad_group_18 - best generalized cross-validation 9519582.516673 \n"
     ]
    },
    {
     "name": "stderr",
     "output_type": "stream",
     "text": [
      "100% (49 of 49) |########################| Elapsed Time: 0:00:00 Time:  0:00:00\n",
      " 34% (17 of 49) |########                | Elapsed Time: 0:00:00 ETA:   0:00:00"
     ]
    },
    {
     "name": "stdout",
     "output_type": "stream",
     "text": [
      "==== Tuning for ad group ad_group_9 - best generalized cross-validation 19565850.228744 \n"
     ]
    },
    {
     "name": "stderr",
     "output_type": "stream",
     "text": [
      "100% (49 of 49) |########################| Elapsed Time: 0:00:00 Time:  0:00:00\n",
      " 34% (17 of 49) |########                | Elapsed Time: 0:00:00 ETA:   0:00:00"
     ]
    },
    {
     "name": "stdout",
     "output_type": "stream",
     "text": [
      "==== Tuning for ad group ad_group_35 - best generalized cross-validation 6151934.313712 \n"
     ]
    },
    {
     "name": "stderr",
     "output_type": "stream",
     "text": [
      "100% (49 of 49) |########################| Elapsed Time: 0:00:00 Time:  0:00:00\n",
      " 34% (17 of 49) |########                | Elapsed Time: 0:00:00 ETA:   0:00:00"
     ]
    },
    {
     "name": "stdout",
     "output_type": "stream",
     "text": [
      "==== Tuning for ad group ad_group_40 - best generalized cross-validation 6510717.766979 \n"
     ]
    },
    {
     "name": "stderr",
     "output_type": "stream",
     "text": [
      "100% (49 of 49) |########################| Elapsed Time: 0:00:00 Time:  0:00:00\n",
      " 32% (16 of 49) |#######                 | Elapsed Time: 0:00:00 ETA:   0:00:00"
     ]
    },
    {
     "name": "stdout",
     "output_type": "stream",
     "text": [
      "==== Tuning for ad group ad_group_24 - best generalized cross-validation 2323000.170217 \n"
     ]
    },
    {
     "name": "stderr",
     "output_type": "stream",
     "text": [
      "100% (49 of 49) |########################| Elapsed Time: 0:00:00 Time:  0:00:00\n",
      " 30% (15 of 49) |#######                 | Elapsed Time: 0:00:00 ETA:   0:00:00"
     ]
    },
    {
     "name": "stdout",
     "output_type": "stream",
     "text": [
      "==== Tuning for ad group ad_group_2 - best generalized cross-validation 4308751.417538 \n"
     ]
    },
    {
     "name": "stderr",
     "output_type": "stream",
     "text": [
      "100% (49 of 49) |########################| Elapsed Time: 0:00:00 Time:  0:00:00\n",
      " 32% (16 of 49) |#######                 | Elapsed Time: 0:00:00 ETA:   0:00:00"
     ]
    },
    {
     "name": "stdout",
     "output_type": "stream",
     "text": [
      "==== Tuning for ad group ad_group_3 - best generalized cross-validation 28455608.034448 \n"
     ]
    },
    {
     "name": "stderr",
     "output_type": "stream",
     "text": [
      "100% (49 of 49) |########################| Elapsed Time: 0:00:00 Time:  0:00:00\n",
      " 34% (17 of 49) |########                | Elapsed Time: 0:00:00 ETA:   0:00:00"
     ]
    },
    {
     "name": "stdout",
     "output_type": "stream",
     "text": [
      "==== Tuning for ad group ad_group_30 - best generalized cross-validation 21658844.283381 \n"
     ]
    },
    {
     "name": "stderr",
     "output_type": "stream",
     "text": [
      "100% (49 of 49) |########################| Elapsed Time: 0:00:00 Time:  0:00:00\n",
      " 32% (16 of 49) |#######                 | Elapsed Time: 0:00:00 ETA:   0:00:00"
     ]
    },
    {
     "name": "stdout",
     "output_type": "stream",
     "text": [
      "==== Tuning for ad group ad_group_20 - best generalized cross-validation 312587844.764111 \n"
     ]
    },
    {
     "name": "stderr",
     "output_type": "stream",
     "text": [
      "100% (49 of 49) |########################| Elapsed Time: 0:00:00 Time:  0:00:00\n",
      " 32% (16 of 49) |#######                 | Elapsed Time: 0:00:00 ETA:   0:00:00"
     ]
    },
    {
     "name": "stdout",
     "output_type": "stream",
     "text": [
      "==== Tuning for ad group ad_group_37 - best generalized cross-validation 4986369.678275 \n"
     ]
    },
    {
     "name": "stderr",
     "output_type": "stream",
     "text": [
      "100% (49 of 49) |########################| Elapsed Time: 0:00:00 Time:  0:00:00\n",
      " 32% (16 of 49) |#######                 | Elapsed Time: 0:00:00 ETA:   0:00:00"
     ]
    },
    {
     "name": "stdout",
     "output_type": "stream",
     "text": [
      "==== Tuning for ad group ad_group_38 - best generalized cross-validation 38013704.705388 \n"
     ]
    },
    {
     "name": "stderr",
     "output_type": "stream",
     "text": [
      "100% (49 of 49) |########################| Elapsed Time: 0:00:00 Time:  0:00:00\n",
      " 32% (16 of 49) |#######                 | Elapsed Time: 0:00:00 ETA:   0:00:00"
     ]
    },
    {
     "name": "stdout",
     "output_type": "stream",
     "text": [
      "==== Tuning for ad group ad_group_15 - best generalized cross-validation 422944.088508 \n"
     ]
    },
    {
     "name": "stderr",
     "output_type": "stream",
     "text": [
      "100% (49 of 49) |########################| Elapsed Time: 0:00:00 Time:  0:00:00\n",
      " 34% (17 of 49) |########                | Elapsed Time: 0:00:00 ETA:   0:00:00"
     ]
    },
    {
     "name": "stdout",
     "output_type": "stream",
     "text": [
      "==== Tuning for ad group ad_group_23 - best generalized cross-validation 51374673.820124 \n"
     ]
    },
    {
     "name": "stderr",
     "output_type": "stream",
     "text": [
      "100% (49 of 49) |########################| Elapsed Time: 0:00:00 Time:  0:00:00\n"
     ]
    },
    {
     "name": "stdout",
     "output_type": "stream",
     "text": [
      "==== Tuning for ad group ad_group_4 - best generalized cross-validation 195330301.067301 \n"
     ]
    }
   ],
   "source": [
    "#tuning params - GAM\n",
    "# https://media.readthedocs.org/pdf/pygam/latest/pygam.pdf - chapter 6.1.3 Auto tuning\n",
    "list_ad_group = set(df['ad'].values)\n",
    "len(list_ad_group)\n",
    "tuning_result_each_group = {}\n",
    "tuning_result_avg_gcv = {}\n",
    "splines=[5, 7, 10, 20, 30, 40, 45]\n",
    "lams = np.logspace(-3,3,7)\n",
    "print(lams)\n",
    "for ad_group in list_ad_group:\n",
    "    df_ad_group_train = df[df['ad'] == ad_group]\n",
    "    df_ad_group_train = df_ad_group_train.reset_index()\n",
    "    df_ad_group_train['time_period'] = (df_ad_group_train['date'] - df_ad_group_train['date'][0]).dt.days\n",
    "    X_train = df_ad_group_train[['time_period']].values\n",
    "    y_train = df_ad_group_train['shown'].values\n",
    "    #auto tuning\n",
    "    gam = LinearGAM().gridsearch(X_train, y_train, lam=lams, n_splines=splines)\n",
    "    predictions = gam.predict(X_train)\n",
    "    print('==== Tuning for ad group %s - best generalized cross-validation %f ' % (ad_group, gam.statistics_['GCV']))\n",
    "    tuning_result_each_group[ad_group] = (gam.lam[0][0], gam.n_splines[0], gam.statistics_['GCV'])\n",
    "   "
   ]
  },
  {
   "cell_type": "code",
   "execution_count": 11,
   "metadata": {},
   "outputs": [],
   "source": [
    "#TODO: Preethi -> build an Python script using GAM model, take input for ad group name and day in future -> output: prediction value of \"shown\"\n",
    "# example: python ads_analysis_gam.py ad_group_30 2015-12-15\n",
    "# create an independent Python script with a main function to check for arguments\n",
    "# idea: use auto tuning like the above cell for one particular ad group, then call gam.predict - check sample code for adgroup 1 cell above"
   ]
  },
  {
   "cell_type": "code",
   "execution_count": 12,
   "metadata": {},
   "outputs": [
    {
     "data": {
      "text/plain": [
       "{'ad_group_22': (1.0, 7, 930643.7671299172),\n",
       " 'ad_group_1': (0.1, 7, 6709968.990582693),\n",
       " 'ad_group_11': (1.0, 5, 16865349.23772622),\n",
       " 'ad_group_27': (1000.0, 5, 6374581.937322607),\n",
       " 'ad_group_26': (0.1, 7, 6399621.6670639105),\n",
       " 'ad_group_16': (1000.0, 5, 39348384.52012015),\n",
       " 'ad_group_8': (1.0, 10, 4137908.404099531),\n",
       " 'ad_group_36': (0.1, 7, 5882384.979295186),\n",
       " 'ad_group_28': (0.1, 7, 485999.71688666224),\n",
       " 'ad_group_6': (0.01, 5, 3400226.6928637),\n",
       " 'ad_group_32': (0.001, 5, 2197216.2514232458),\n",
       " 'ad_group_29': (1000.0, 5, 586502.1158006197),\n",
       " 'ad_group_19': (0.1, 5, 9082003.551043306),\n",
       " 'ad_group_5': (100.0, 5, 59303384.80322967),\n",
       " 'ad_group_34': (0.1, 20, 1828918.960845113),\n",
       " 'ad_group_39': (0.01, 7, 884490.7728886465),\n",
       " 'ad_group_10': (0.1, 5, 22484832.253103957),\n",
       " 'ad_group_33': (0.001, 5, 448096.23499361763),\n",
       " 'ad_group_7': (0.1, 20, 6849026.510070014),\n",
       " 'ad_group_21': (1.0, 40, 1483346.930501987),\n",
       " 'ad_group_13': (1000.0, 5, 1097183241.0002656),\n",
       " 'ad_group_25': (1000.0, 30, 591564057.3173177),\n",
       " 'ad_group_17': (100.0, 30, 15980169.240034794),\n",
       " 'ad_group_31': (0.01, 7, 21947800.148752127),\n",
       " 'ad_group_12': (0.1, 5, 17279516.79285519),\n",
       " 'ad_group_14': (0.001, 10, 80697.79637135105),\n",
       " 'ad_group_18': (0.01, 5, 9519582.516673284),\n",
       " 'ad_group_9': (0.1, 5, 19565850.228743907),\n",
       " 'ad_group_35': (1000.0, 5, 6151934.31371232),\n",
       " 'ad_group_40': (0.001, 5, 6510717.766978518),\n",
       " 'ad_group_24': (1.0, 7, 2323000.170216936),\n",
       " 'ad_group_2': (1000.0, 5, 4308751.417538064),\n",
       " 'ad_group_3': (0.001, 10, 28455608.0344482),\n",
       " 'ad_group_30': (0.01, 20, 21658844.283381045),\n",
       " 'ad_group_20': (0.01, 5, 312587844.76411104),\n",
       " 'ad_group_37': (0.01, 10, 4986369.6782754455),\n",
       " 'ad_group_38': (1.0, 10, 38013704.70538828),\n",
       " 'ad_group_15': (1000.0, 5, 422944.08850751986),\n",
       " 'ad_group_23': (0.1, 5, 51374673.82012397),\n",
       " 'ad_group_4': (1.0, 5, 195330301.06730065)}"
      ]
     },
     "execution_count": 12,
     "metadata": {},
     "output_type": "execute_result"
    }
   ],
   "source": [
    "tuning_result_each_group\n",
    "#TODO: Preethi -> visualization the tuning result for each ad group {ad group nname: lambda value, number of splines, GCV}\n",
    "#NOTE: GAM uses GCV (generalized cross-validation) as the validationn metrics - this one is similar to error metrics "
   ]
  },
  {
   "cell_type": "markdown",
   "metadata": {},
   "source": [
    "### 2.2 ARMA\n",
    "https://en.wikipedia.org/wiki/Autoregressive%E2%80%93moving-average_model\n",
    "https://www.statsmodels.org/dev/generated/statsmodels.tsa.arima_model.ARMA.html - -statsmodels package\n",
    "https://machinelearningmastery.com/arima-for-time-series-forecasting-with-python/ - example"
   ]
  },
  {
   "cell_type": "code",
   "execution_count": 13,
   "metadata": {},
   "outputs": [
    {
     "data": {
      "image/png": "[encoded data removed]",
      "text/plain": [
       "<Figure size 432x288 with 1 Axes>"
      ]
     },
     "metadata": {
      "needs_background": "light"
     },
     "output_type": "display_data"
    },
    {
     "data": {
      "image/png": "[encoded data removed]",
      "text/plain": [
       "<Figure size 432x288 with 1 Axes>"
      ]
     },
     "metadata": {
      "needs_background": "light"
     },
     "output_type": "display_data"
    },
    {
     "name": "stderr",
     "output_type": "stream",
     "text": [
      "/anaconda3/lib/python3.6/site-packages/ipykernel_launcher.py:19: FutureWarning: 'pandas.tools.plotting.autocorrelation_plot' is deprecated, import 'pandas.plotting.autocorrelation_plot' instead.\n"
     ]
    },
    {
     "data": {
      "image/png": "[encoded data removed]",
      "text/plain": [
       "<Figure size 432x288 with 1 Axes>"
      ]
     },
     "metadata": {
      "needs_background": "light"
     },
     "output_type": "display_data"
    },
    {
     "data": {
      "image/png": "[encoded data removed]",
      "text/plain": [
       "<Figure size 432x288 with 1 Axes>"
      ]
     },
     "metadata": {
      "needs_background": "light"
     },
     "output_type": "display_data"
    },
    {
     "name": "stderr",
     "output_type": "stream",
     "text": [
      "/anaconda3/lib/python3.6/site-packages/statsmodels/base/model.py:488: HessianInversionWarning: Inverting hessian failed, no bse or cov_params available\n",
      "  'available', HessianInversionWarning)\n"
     ]
    },
    {
     "data": {
      "image/png": "[encoded data removed]",
      "text/plain": [
       "<Figure size 432x288 with 1 Axes>"
      ]
     },
     "metadata": {
      "needs_background": "light"
     },
     "output_type": "display_data"
    },
    {
     "name": "stdout",
     "output_type": "stream",
     "text": [
      "The required output (prediction of shown value on 2015-12-15) will be at the top of the forecast array\n",
      "74887.50406224746\n",
      "Array of out of sample forecasts\n",
      "[74887.50406225 70310.74684186 72035.23317252 70897.75740967\n",
      " 70866.4339982  71053.70247775 70110.18014915 71048.38716282\n",
      " 69677.99902996 70882.57431296 69517.31749072 70592.26125814\n",
      " 69543.97605058 70244.46600769 69663.24234584 69910.48516118\n",
      " 69793.03369656 69645.08076396 69878.41054837 69476.08353327\n",
      " 69895.78429865 69403.95778713 69848.60533387 69408.50240361\n",
      " 69757.93181035 69458.93687104 69651.58504881 69523.88006645\n",
      " 69554.90139933 69578.76575678 69484.85218442 69609.57769283\n",
      " 69447.98183568 69613.01506565 69441.55765154 69594.04757315\n",
      " 69456.71641939 69562.18934671 69482.25478144 69527.75879967\n",
      " 69507.94177116 69499.03591343 69526.67135216 69480.7505612\n",
      " 69535.25329822 69473.88729201 69534.03309139 69476.47493772\n",
      " 69525.76486803 69484.88377131 69514.22411627 69495.16554148\n",
      " 69502.97224363 69504.09434203 69494.53077254 69509.73754709\n",
      " 69490.04938733 69511.55016031 69489.40734233 69510.10476166\n",
      " 69491.59907884 69506.6266292  69495.22802001 69502.50305762\n",
      " 69498.95637588 69498.89407625 69501.81308038 69496.51071087\n",
      " 69503.32472514 69495.56708532 69503.48777933 69495.86833563\n",
      " 69502.63407095 69496.97393774 69501.25283956]\n"
     ]
    }
   ],
   "source": [
    "import statsmodels.api as sm\n",
    "from pandas.plotting import lag_plot\n",
    "from pandas.tools.plotting import autocorrelation_plot\n",
    "from statsmodels.graphics.tsaplots import plot_acf\n",
    "from statsmodels.tsa.api import ARMA\n",
    "from datetime import datetime\n",
    "\n",
    "#How to understand these plots: https://machinelearningmastery.com/autoregression-models-time-series-forecasting-python/\n",
    "df_arma = df_ad_group_1[['shown', 'date']]\n",
    "series = pd.Series(df_arma['shown'], index=df_arma.index)\n",
    "series.plot(title='Shown values trend by day - Ad group 1', color = 'C1')\n",
    "plt.ylabel('shown values')\n",
    "plt.xlabel('Days gap from 2015-10-01')\n",
    "plt.scatter(X, y, facecolor='gray', edgecolors='none')\n",
    "plt.show()\n",
    "#check for auto correlation\n",
    "lag_plot(series)\n",
    "plt.show()\n",
    "autocorrelation_plot(series)\n",
    "plt.show()\n",
    "plot_acf(series.values, lags=31)\n",
    "plt.show()\n",
    "\n",
    "model = ARMA(series.values, order=(4,4))\n",
    "model_fit = model.fit()\n",
    "model_fit.plot_predict(plot_insample=True)\n",
    "plt.scatter(X, y, color = 'gray')\n",
    "plt.title('ARMA')\n",
    "plt.show()\n",
    "days_gap = (pd.to_datetime('2015-12-15') - df_arma['date'][0]).days\n",
    "forecast = model_fit.forecast(steps=days_gap)\n",
    "\n",
    "print('The required output (prediction of shown value on 2015-12-15) will be at the top of the forecast array')\n",
    "print(forecast[0][0])\n",
    "\n",
    "print('Array of out of sample forecasts')\n",
    "print(forecast[0])\n",
    "# print('Array of out of standard error of forecasts')\n",
    "# print(forecast[1])\n",
    "# print('2d array of the confidence interval for the forecast')\n",
    "# print(forecast[2])\n",
    "\n"
   ]
  },
  {
   "cell_type": "code",
   "execution_count": 14,
   "metadata": {},
   "outputs": [],
   "source": [
    "import statsmodels.tsa.api as smt\n",
    "import statsmodels.stats as sms\n",
    "import scipy.stats as scs\n",
    "def tsplot(y, lags=None, figsize=(10, 8), style='bmh'):\n",
    "    if not isinstance(y, pd.Series):\n",
    "        y = pd.Series(y)\n",
    "    with plt.style.context(style):    \n",
    "        fig = plt.figure(figsize=figsize)\n",
    "        layout = (3, 2)\n",
    "        ts_ax = plt.subplot2grid(layout, (0, 0), colspan=2)\n",
    "        acf_ax = plt.subplot2grid(layout, (1, 0))\n",
    "        pacf_ax = plt.subplot2grid(layout, (1, 1))\n",
    "        qq_ax = plt.subplot2grid(layout, (2, 0))\n",
    "        pp_ax = plt.subplot2grid(layout, (2, 1))\n",
    "        \n",
    "        y.plot(ax=ts_ax)\n",
    "        ts_ax.set_title('Time Series Analysis Plots')\n",
    "        smt.graphics.plot_acf(y, lags=lags, ax=acf_ax, alpha=0.05)\n",
    "        smt.graphics.plot_pacf(y, lags=lags, ax=pacf_ax, alpha=0.05)\n",
    "        sm.qqplot(y, line='s', ax=qq_ax)\n",
    "        qq_ax.set_title('QQ Plot')        \n",
    "        scs.probplot(y, sparams=(y.mean(), y.std()), plot=pp_ax)\n",
    "\n",
    "        plt.tight_layout()\n",
    "    return"
   ]
  },
  {
   "cell_type": "code",
   "execution_count": 15,
   "metadata": {},
   "outputs": [
    {
     "ename": "AttributeError",
     "evalue": "'NoneType' object has no attribute 'resid'",
     "output_type": "error",
     "traceback": [
      "\u001b[0;31m---------------------------------------------------------------------------\u001b[0m",
      "\u001b[0;31mAttributeError\u001b[0m                            Traceback (most recent call last)",
      "\u001b[0;32m<ipython-input-15-d80fedb86040>\u001b[0m in \u001b[0;36m<module>\u001b[0;34m\u001b[0m\n\u001b[1;32m     25\u001b[0m                     \u001b[0mbest_mdl\u001b[0m \u001b[0;34m=\u001b[0m \u001b[0mtmp_mdl\u001b[0m\u001b[0;34m\u001b[0m\u001b[0m\n\u001b[1;32m     26\u001b[0m             \u001b[0;32mexcept\u001b[0m\u001b[0;34m:\u001b[0m \u001b[0;32mcontinue\u001b[0m\u001b[0;34m\u001b[0m\u001b[0m\n\u001b[0;32m---> 27\u001b[0;31m     \u001b[0mscore\u001b[0m\u001b[0;34m,\u001b[0m \u001b[0mpvalue\u001b[0m\u001b[0;34m,\u001b[0m \u001b[0m_\u001b[0m\u001b[0;34m,\u001b[0m \u001b[0m_\u001b[0m \u001b[0;34m=\u001b[0m \u001b[0mjarque_bera\u001b[0m\u001b[0;34m(\u001b[0m\u001b[0mbest_mdl\u001b[0m\u001b[0;34m.\u001b[0m\u001b[0mresid\u001b[0m\u001b[0;34m)\u001b[0m\u001b[0;34m\u001b[0m\u001b[0m\n\u001b[0m\u001b[1;32m     28\u001b[0m \u001b[0;34m\u001b[0m\u001b[0m\n\u001b[1;32m     29\u001b[0m     \u001b[0;32mif\u001b[0m \u001b[0mpvalue\u001b[0m \u001b[0;34m<\u001b[0m \u001b[0;36m0.10\u001b[0m\u001b[0;34m:\u001b[0m\u001b[0;34m\u001b[0m\u001b[0m\n",
      "\u001b[0;31mAttributeError\u001b[0m: 'NoneType' object has no attribute 'resid'"
     ]
    }
   ],
   "source": [
    "#Tuning Params\n",
    "from statsmodels.stats.stattools import jarque_bera\n",
    "\n",
    "rng = 6\n",
    "alpha_list = [0.1, 0.5, 1, 2, 3]\n",
    "beta_list = [0.1, 0.5, 1, 2, 3]\n",
    "best_aic = np.inf \n",
    "best_order = None\n",
    "best_mdl = None\n",
    "max_lag = 30\n",
    "tuning_result = {}\n",
    "for ad_group in list_ad_group:\n",
    "    df_ad_group_train = df[df['ad'] == ad_group]\n",
    "    df_ad_group_train = df_ad_group_train.reset_index()\n",
    "    df_arma_train = df_ad_group_train[['shown', 'date']]\n",
    "    series_train = pd.Series(df_arma_train['shown'], index=df_arma_train.index)\n",
    "    for alpha in alpha_list:\n",
    "        for beta in beta_list:\n",
    "            try:\n",
    "                tmp_mdl = ARMA(series_train.values, order=(alpha, beta)).fit(method='mle', trend='nc')\n",
    "                tmp_aic = tmp_mdl.aic\n",
    "                if tmp_aic < best_aic:\n",
    "                    best_aic = tmp_aic\n",
    "                    best_order = (alpha, beta)\n",
    "                    best_mdl = tmp_mdl\n",
    "            except: continue\n",
    "    score, pvalue, _, _ = jarque_bera(best_mdl.resid)\n",
    "\n",
    "    if pvalue < 0.10:\n",
    "        print('The residuals may not be normally distributed.')\n",
    "    else:\n",
    "        print('The residuals seem normally distributed.')\n",
    "    tuning_result[ad_group] = (best_aic, best_order)\n",
    "    print('Ad_group: {} aic: {:6.2f} | best order: {}'.format(ad_group, best_aic, best_order))\n",
    "#     print('Plot for ad group ', ad_group)\n",
    "#     _ = tsplot(best_mdl.resid, lags=max_lag)"
   ]
  },
  {
   "cell_type": "code",
   "execution_count": null,
   "metadata": {},
   "outputs": [],
   "source": [
    "#TODO: Preethi -> build an Python script using ARMA model, take input for ad group name and day in future -> output: prediction value of \"shown\"\n",
    "# example: python ads_analysis_arma.py ad_group_30 2015-12-15\n",
    "# create an independent Python script with a main function to check for arguments\n",
    "# idea: tuning and look for best model like the above cell for one particular ad group, then call forecast function - check sample code for adgroup 1 cell above"
   ]
  },
  {
   "cell_type": "code",
   "execution_count": null,
   "metadata": {},
   "outputs": [],
   "source": [
    "tuning_result\n",
    "#TODO: Preethi - visualize the tuning result for ad groups - adgroup id : AIC, (alpha, beta)\n",
    "#NOTE: ARMA uses AIC as the validation metric https://en.wikipedia.org/wiki/Akaike_information_criterion"
   ]
  },
  {
   "cell_type": "markdown",
   "metadata": {},
   "source": [
    "### 2.3 Simple method: linear regression \n",
    "Library: scikit-learn"
   ]
  },
  {
   "cell_type": "code",
   "execution_count": null,
   "metadata": {},
   "outputs": [],
   "source": [
    "from sklearn import linear_model\n",
    "reg = linear_model.LinearRegression()\n",
    "reg.fit(X, y)\n",
    "plt.plot(X, y, color = 'C1')\n",
    "plt.title('Linear Regression')\n",
    "plt.scatter(X, y, color = 'gray')\n",
    "plt.ylabel('shown values')\n",
    "plt.xlabel('Days gap from 2015-10-01')\n",
    "plt.plot(X, reg.predict(X), linewidth = 1)\n",
    "reg.predict(X_test)"
   ]
  },
  {
   "cell_type": "markdown",
   "metadata": {},
   "source": [
    "# 3. Cluster ads into 3 groups: \n",
    "\n",
    "The ones whose avg_cost_per_click is going up, the ones whose avg_cost_per_click is flat and the ones whose avg_cost_per_click is going down"
   ]
  },
  {
   "cell_type": "code",
   "execution_count": 2,
   "metadata": {},
   "outputs": [
    {
     "data": {
      "text/plain": [
       "<Figure size 800x700 with 1 Axes>"
      ]
     },
     "metadata": {},
     "output_type": "display_data"
    }
   ],
   "source": [
    "import numpy as np\n",
    "import pandas as pd\n",
    "from scipy.stats import gmean\n",
    "import matplotlib.pyplot as plt\n",
    "\n",
    "\n",
    "ads_file = 'data/ad_table.csv'\n",
    "df = pd.read_csv(ads_file, header=0, sep=',')\n",
    "\n",
    "df_agg = pd.DataFrame({'shown': df['shown'], 'clicked' : df['clicked'], 'converted' : df['converted'], \\\n",
    "                       'ad': df['ad']}).groupby('ad').sum()\n",
    "\n",
    "ctr = pd.DataFrame({'shown_vs_clicked': df_agg['clicked']/df_agg['shown']})\n",
    "cvr = pd.DataFrame({'clicked_vs_converted': df_agg['converted']/df_agg['clicked']})\n",
    "\n",
    "from mpl_toolkits.mplot3d import Axes3D\n",
    "\n",
    "from sklearn.cluster import KMeans\n",
    "\n",
    "join = pd.DataFrame({'shown_vs_clicked':ctr['shown_vs_clicked'],'clicked_vs_converted':\\\n",
    "                     cvr['clicked_vs_converted'],'profit':df.groupby('ad')['total_revenue'].mean()})\n",
    "ad_data = np.array(join)\n",
    "\n",
    "np.random.seed(5)\n",
    "    \n",
    "fig = plt.figure(figsize=(8, 7))\n",
    "ax = fig.add_subplot(111, projection='3d')\n",
    "aa = KMeans(n_clusters=3).fit(ad_data)\n",
    "labels = aa.labels_\n",
    "\n",
    "ax.scatter(ad_data[:, 0], ad_data[:, 1], ad_data[:, 2],\n",
    "            c=labels.astype(np.float), marker='o')\n",
    "\n",
    "ax.set_xlabel('CTR')\n",
    "ax.set_ylabel('CVR')\n",
    "ax.set_zlabel('Profit')\n",
    "ax.set_title('Ad Group Clustering based on 3 Performance Metrics')\n",
    "ax.dist = 12\n",
    "plt.show()"
   ]
  },
  {
   "cell_type": "code",
   "execution_count": null,
   "metadata": {},
   "outputs": [],
   "source": []
  }
 ],
 "metadata": {
  "kernelspec": {
   "display_name": "Python 3",
   "language": "python",
   "name": "python3"
  },
  "language_info": {
   "codemirror_mode": {
    "name": "ipython",
    "version": 3
   },
   "file_extension": ".py",
   "mimetype": "text/x-python",
   "name": "python",
   "nbconvert_exporter": "python",
   "pygments_lexer": "ipython3",
   "version": "3.6.5"
  }
 },
 "nbformat": 4,
 "nbformat_minor": 2
}
